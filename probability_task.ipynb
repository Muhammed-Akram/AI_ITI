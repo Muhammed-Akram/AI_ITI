{
  "nbformat": 4,
  "nbformat_minor": 0,
  "metadata": {
    "colab": {
      "provenance": [],
      "authorship_tag": "ABX9TyPWbE2VIQVxELLE1bEamDpZ",
      "include_colab_link": true
    },
    "kernelspec": {
      "name": "python3",
      "display_name": "Python 3"
    },
    "language_info": {
      "name": "python"
    }
  },
  "cells": [
    {
      "cell_type": "markdown",
      "metadata": {
        "id": "view-in-github",
        "colab_type": "text"
      },
      "source": [
        "<a href=\"https://colab.research.google.com/github/Muhammed-Akram/AI_ITI/blob/main/probability_task.ipynb\" target=\"_parent\"><img src=\"https://colab.research.google.com/assets/colab-badge.svg\" alt=\"Open In Colab\"/></a>"
      ]
    },
    {
      "cell_type": "code",
      "execution_count": 1,
      "metadata": {
        "id": "z64Vhs-6Cduy"
      },
      "outputs": [],
      "source": [
        "import numpy as np\n",
        "import random"
      ]
    },
    {
      "cell_type": "code",
      "source": [
        "# 1. Manual vs NumPy Mean\n",
        "print(\"## 1. Manual vs NumPy Mean\")\n",
        "ages = [18, 21, 20, 19, 22, 23, 20, 21, 22, 19]\n",
        "manual_mean = sum(ages) / len(ages)\n",
        "numpy_mean = np.mean(ages)\n",
        "print(f\"Student Ages: {ages}\")\n",
        "print(f\"Manual Mean: {manual_mean}\")\n",
        "print(f\"NumPy Mean: {numpy_mean}\")\n",
        "print(\"-\" * 30)"
      ],
      "metadata": {
        "colab": {
          "base_uri": "https://localhost:8080/"
        },
        "id": "n6HqcHbjCg1W",
        "outputId": "9875f366-c575-423a-c520-df5baf005d92"
      },
      "execution_count": 2,
      "outputs": [
        {
          "output_type": "stream",
          "name": "stdout",
          "text": [
            "## 1. Manual vs NumPy Mean\n",
            "Student Ages: [18, 21, 20, 19, 22, 23, 20, 21, 22, 19]\n",
            "Manual Mean: 20.5\n",
            "NumPy Mean: 20.5\n",
            "------------------------------\n"
          ]
        }
      ]
    },
    {
      "cell_type": "code",
      "source": [
        "# 2. Median Without Sorting Function\n",
        "print(\"## 2. Median Without Sorting Function\")\n",
        "random_list = [random.randint(10, 50) for _ in range(15)]\n",
        "print(f\"Generated List: {random_list}\")\n",
        "\n",
        "sorted_list = sorted(random_list)\n",
        "n = len(sorted_list)\n",
        "middle_index = n // 2\n",
        "if n % 2 == 0:\n",
        "    manual_median = (sorted_list[middle_index - 1] + sorted_list[middle_index]) / 2\n",
        "else:\n",
        "    manual_median = sorted_list[middle_index]\n",
        "\n",
        "numpy_median = np.median(random_list)\n",
        "print(f\"Sorted List: {sorted_list}\")\n",
        "print(f\"Manual Median: {manual_median}\")\n",
        "print(f\"NumPy Median: {numpy_median}\")\n",
        "print(\"-\" * 30)"
      ],
      "metadata": {
        "colab": {
          "base_uri": "https://localhost:8080/"
        },
        "id": "UYvjS_KgClnA",
        "outputId": "e1b83ce6-e030-4a1e-cb1a-d56070fd3679"
      },
      "execution_count": 3,
      "outputs": [
        {
          "output_type": "stream",
          "name": "stdout",
          "text": [
            "## 2. Median Without Sorting Function\n",
            "Generated List: [46, 27, 23, 12, 50, 48, 34, 10, 37, 22, 20, 44, 49, 33, 44]\n",
            "Sorted List: [10, 12, 20, 22, 23, 27, 33, 34, 37, 44, 44, 46, 48, 49, 50]\n",
            "Manual Median: 34\n",
            "NumPy Median: 34.0\n",
            "------------------------------\n"
          ]
        }
      ]
    },
    {
      "cell_type": "code",
      "source": [
        "\n",
        "# 3. Range and Data Spread\n",
        "print(\"## 3. Range and Data Spread\")\n",
        "print(f\"Using the same list: {random_list}\")\n",
        "manual_min = min(random_list)\n",
        "manual_max = max(random_list)\n",
        "manual_range = manual_max - manual_min\n",
        "print(f\"Manual Min: {manual_min}\")\n",
        "print(f\"Manual Max: {manual_max}\")\n",
        "print(f\"Manual Range: {manual_range}\")\n",
        "\n",
        "numpy_min = np.min(random_list)\n",
        "numpy_max = np.max(random_list)\n",
        "numpy_range = np.ptp(random_list)\n",
        "print(f\"NumPy Min: {numpy_min}\")\n",
        "print(f\"NumPy Max: {numpy_max}\")\n",
        "print(f\"NumPy Range (ptp): {numpy_range}\")\n",
        "print(\"-\" * 30)"
      ],
      "metadata": {
        "colab": {
          "base_uri": "https://localhost:8080/"
        },
        "id": "zOeEUfTtCpHg",
        "outputId": "17942e70-3331-4608-e967-2df124e2c4d4"
      },
      "execution_count": 4,
      "outputs": [
        {
          "output_type": "stream",
          "name": "stdout",
          "text": [
            "## 3. Range and Data Spread\n",
            "Using the same list: [46, 27, 23, 12, 50, 48, 34, 10, 37, 22, 20, 44, 49, 33, 44]\n",
            "Manual Min: 10\n",
            "Manual Max: 50\n",
            "Manual Range: 40\n",
            "NumPy Min: 10\n",
            "NumPy Max: 50\n",
            "NumPy Range (ptp): 40\n",
            "------------------------------\n"
          ]
        }
      ]
    },
    {
      "cell_type": "code",
      "source": [
        "# 4. Variance & Standard Deviation\n",
        "print(\"## 4. Variance & Standard Deviation\")\n",
        "data = [5, 7, 3, 7, 9, 10, 15, 7]\n",
        "print(f\"Dataset: {data}\")\n",
        "mean_val = sum(data) / len(data)\n",
        "manual_variance = sum([(x - mean_val) ** 2 for x in data]) / len(data)\n",
        "manual_std_dev = manual_variance ** 0.5\n",
        "print(f\"Manual Variance: {manual_variance:.4f}\")\n",
        "print(f\"Manual Standard Deviation: {manual_std_dev:.4f}\")\n",
        "\n",
        "numpy_variance = np.var(data)\n",
        "numpy_std_dev = np.std(data)\n",
        "print(f\"NumPy Variance: {numpy_variance:.4f}\")\n",
        "print(f\"NumPy Standard Deviation: {numpy_std_dev:.4f}\")\n",
        "print(\"-\" * 30)"
      ],
      "metadata": {
        "colab": {
          "base_uri": "https://localhost:8080/"
        },
        "id": "Aw21BbBoCt7w",
        "outputId": "2ce49763-201b-414e-93db-4b67044710a1"
      },
      "execution_count": 5,
      "outputs": [
        {
          "output_type": "stream",
          "name": "stdout",
          "text": [
            "## 4. Variance & Standard Deviation\n",
            "Dataset: [5, 7, 3, 7, 9, 10, 15, 7]\n",
            "Manual Variance: 11.3594\n",
            "Manual Standard Deviation: 3.3704\n",
            "NumPy Variance: 11.3594\n",
            "NumPy Standard Deviation: 3.3704\n",
            "------------------------------\n"
          ]
        }
      ]
    },
    {
      "cell_type": "code",
      "source": [
        "# 5. Quartiles & IQR\n",
        "print(\"## 5. Quartiles & IQR\")\n",
        "dataset_quartiles = np.array([random.randint(1, 100) for _ in range(30)])\n",
        "print(f\"Dataset for Quartiles: {dataset_quartiles}\")\n",
        "q1 = np.percentile(dataset_quartiles, 25)\n",
        "q2 = np.percentile(dataset_quartiles, 50)\n",
        "q3 = np.percentile(dataset_quartiles, 75)\n",
        "iqr = q3 - q1\n",
        "print(f\"25th Percentile (Q1): {q1}\")\n",
        "print(f\"50th Percentile (Q2/Median): {q2}\")\n",
        "print(f\"75th Percentile (Q3): {q3}\")\n",
        "print(f\"Interquartile Range (IQR): {iqr}\")\n",
        "print(\"-\" * 30)"
      ],
      "metadata": {
        "colab": {
          "base_uri": "https://localhost:8080/"
        },
        "id": "vQfhrcPiCv4C",
        "outputId": "f19a93b0-e728-43f3-d119-8fa36c37a407"
      },
      "execution_count": 6,
      "outputs": [
        {
          "output_type": "stream",
          "name": "stdout",
          "text": [
            "## 5. Quartiles & IQR\n",
            "Dataset for Quartiles: [87 86 92 62 27 82 78 48 73 39 25 45 82 80 67 12 26  6  3 53  2 31 64 77\n",
            " 14  7 27 39 32 50]\n",
            "25th Percentile (Q1): 26.25\n",
            "50th Percentile (Q2/Median): 46.5\n",
            "75th Percentile (Q3): 76.0\n",
            "Interquartile Range (IQR): 49.75\n",
            "------------------------------\n"
          ]
        }
      ]
    },
    {
      "cell_type": "code",
      "source": [
        "# 6. Z-Score Normalization\n",
        "print(\"## 6. Z-Score Normalization\")\n",
        "def calculate_z_scores(data_list):\n",
        "    mean = sum(data_list) / len(data_list)\n",
        "    std_dev = (sum([(x - mean) ** 2 for x in data_list]) / len(data_list)) ** 0.5\n",
        "    if std_dev == 0:\n",
        "        return [0 for _ in data_list]\n",
        "    z_scores = [(x - mean) / std_dev for x in data_list]\n",
        "    return z_scores\n",
        "\n",
        "numeric_list = [10, 12, 15, 11, 13, 20, 25, 22]\n",
        "print(f\"Original List: {numeric_list}\")\n",
        "z_scores = calculate_z_scores(numeric_list)\n",
        "print(\"Manual Z-Scores:\")\n",
        "for i, score in enumerate(z_scores):\n",
        "    print(f\"  Element {numeric_list[i]}: {score:.4f}\")\n",
        "print(\"-\" * 30)\n"
      ],
      "metadata": {
        "colab": {
          "base_uri": "https://localhost:8080/"
        },
        "id": "A42lOl8XCxeB",
        "outputId": "2e5417fd-7176-4e4a-bd23-e4a53648761a"
      },
      "execution_count": 7,
      "outputs": [
        {
          "output_type": "stream",
          "name": "stdout",
          "text": [
            "## 6. Z-Score Normalization\n",
            "Original List: [10, 12, 15, 11, 13, 20, 25, 22]\n",
            "Manual Z-Scores:\n",
            "  Element 10: -1.1442\n",
            "  Element 12: -0.7628\n",
            "  Element 15: -0.1907\n",
            "  Element 11: -0.9535\n",
            "  Element 13: -0.5721\n",
            "  Element 20: 0.7628\n",
            "  Element 25: 1.7162\n",
            "  Element 22: 1.1442\n",
            "------------------------------\n"
          ]
        }
      ]
    },
    {
      "cell_type": "code",
      "source": [
        "# 7. Moving Average\n",
        "print(\"## 7. Moving Average\")\n",
        "time_series_data = [random.randint(1, 100) for _ in range(20)]\n",
        "window_size = 3\n",
        "print(f\"Original Data: {time_series_data}\")\n",
        "\n",
        "manual_moving_avg = []\n",
        "for i in range(len(time_series_data) - window_size + 1):\n",
        "    window = time_series_data[i : i + window_size]\n",
        "    window_average = sum(window) / window_size\n",
        "    manual_moving_avg.append(window_average)\n",
        "\n",
        "print(f\"Manual Moving Average (window={window_size}):\")\n",
        "print([round(val, 2) for val in manual_moving_avg])\n",
        "\n",
        "numpy_moving_avg = np.convolve(time_series_data, np.ones(window_size), 'valid') / window_size\n",
        "print(f\"NumPy convolve() Moving Average (window={window_size}):\")\n",
        "print([round(val, 2) for val in numpy_moving_avg])\n",
        "print(\"-\" * 30)\n"
      ],
      "metadata": {
        "colab": {
          "base_uri": "https://localhost:8080/"
        },
        "id": "p8ctx4SECzS9",
        "outputId": "f310423a-c93a-41a5-8444-23521eaf66a9"
      },
      "execution_count": 8,
      "outputs": [
        {
          "output_type": "stream",
          "name": "stdout",
          "text": [
            "## 7. Moving Average\n",
            "Original Data: [4, 5, 78, 81, 75, 20, 63, 6, 63, 59, 49, 91, 71, 9, 8, 74, 41, 87, 16, 15]\n",
            "Manual Moving Average (window=3):\n",
            "[29.0, 54.67, 78.0, 58.67, 52.67, 29.67, 44.0, 42.67, 57.0, 66.33, 70.33, 57.0, 29.33, 30.33, 41.0, 67.33, 48.0, 39.33]\n",
            "NumPy convolve() Moving Average (window=3):\n",
            "[np.float64(29.0), np.float64(54.67), np.float64(78.0), np.float64(58.67), np.float64(52.67), np.float64(29.67), np.float64(44.0), np.float64(42.67), np.float64(57.0), np.float64(66.33), np.float64(70.33), np.float64(57.0), np.float64(29.33), np.float64(30.33), np.float64(41.0), np.float64(67.33), np.float64(48.0), np.float64(39.33)]\n",
            "------------------------------\n"
          ]
        }
      ]
    },
    {
      "cell_type": "code",
      "source": [
        "# 8. Outlier Detection (IQR method)\n",
        "print(\"## 8. Outlier Detection (IQR method)\")\n",
        "outlier_data = [random.randint(1, 50) for _ in range(25)]\n",
        "outlier_data.extend([300, 400])\n",
        "random.shuffle(outlier_data)\n",
        "print(f\"Dataset with Outliers: {outlier_data}\")\n",
        "\n",
        "q1_outlier = np.percentile(outlier_data, 25)\n",
        "q3_outlier = np.percentile(outlier_data, 75)\n",
        "iqr_outlier = q3_outlier - q1_outlier\n",
        "\n",
        "lower_bound = q1_outlier - 1.5 * iqr_outlier\n",
        "upper_bound = q3_outlier + 1.5 * iqr_outlier\n",
        "\n",
        "print(f\"Q1: {q1_outlier}, Q3: {q3_outlier}, IQR: {iqr_outlier:.2f}\")\n",
        "print(f\"Lower Bound for Outliers: {lower_bound:.2f}\")\n",
        "print(f\"Upper Bound for Outliers: {upper_bound:.2f}\")\n",
        "\n",
        "outliers = [x for x in outlier_data if x < lower_bound or x > upper_bound]\n",
        "print(f\"Detected Outliers: {outliers}\")\n",
        "print(\"-\" * 30)"
      ],
      "metadata": {
        "colab": {
          "base_uri": "https://localhost:8080/"
        },
        "id": "ZZbNntlvC1t5",
        "outputId": "66cc0449-0f25-4d5f-c79e-30e0cebaf94f"
      },
      "execution_count": 9,
      "outputs": [
        {
          "output_type": "stream",
          "name": "stdout",
          "text": [
            "## 8. Outlier Detection (IQR method)\n",
            "Dataset with Outliers: [4, 27, 40, 35, 42, 400, 19, 300, 24, 6, 26, 11, 11, 44, 43, 24, 32, 2, 17, 43, 15, 2, 7, 10, 23, 33, 36]\n",
            "Q1: 11.0, Q3: 38.0, IQR: 27.00\n",
            "Lower Bound for Outliers: -29.50\n",
            "Upper Bound for Outliers: 78.50\n",
            "Detected Outliers: [400, 300]\n",
            "------------------------------\n"
          ]
        }
      ]
    },
    {
      "cell_type": "code",
      "source": [],
      "metadata": {
        "id": "djnV5DSrC3hw"
      },
      "execution_count": null,
      "outputs": []
    }
  ]
}