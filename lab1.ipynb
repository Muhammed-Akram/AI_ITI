{
  "nbformat": 4,
  "nbformat_minor": 0,
  "metadata": {
    "colab": {
      "provenance": [],
      "authorship_tag": "ABX9TyOOBuVCbwI9Aye0cdsn7d9i",
      "include_colab_link": true
    },
    "kernelspec": {
      "name": "python3",
      "display_name": "Python 3"
    },
    "language_info": {
      "name": "python"
    }
  },
  "cells": [
    {
      "cell_type": "markdown",
      "metadata": {
        "id": "view-in-github",
        "colab_type": "text"
      },
      "source": [
        "<a href=\"https://colab.research.google.com/github/Muhammed-Akram/AI_ITI/blob/main/lab1.ipynb\" target=\"_parent\"><img src=\"https://colab.research.google.com/assets/colab-badge.svg\" alt=\"Open In Colab\"/></a>"
      ]
    },
    {
      "cell_type": "code",
      "execution_count": 15,
      "metadata": {
        "id": "NAeLH9LzktiT"
      },
      "outputs": [],
      "source": [
        "num1,num2,num3=3,4,5"
      ]
    },
    {
      "cell_type": "code",
      "source": [
        "print(num1 + num2)\n",
        "print(num3 - num1)\n",
        "print(num1 * num2 + num3)\n",
        "print(num1 * (num2 + num3))\n",
        "print(num3 / num1)\n",
        "print(num3 // num1)\n",
        "print(num3 % num1)\n"
      ],
      "metadata": {
        "colab": {
          "base_uri": "https://localhost:8080/"
        },
        "id": "5rk3RJTXl5Il",
        "outputId": "0c2cf47a-609b-4b8b-f5c8-5342a930fcb9"
      },
      "execution_count": 16,
      "outputs": [
        {
          "output_type": "stream",
          "name": "stdout",
          "text": [
            "7\n",
            "2\n",
            "17\n",
            "27\n",
            "1.6666666666666667\n",
            "1\n",
            "2\n"
          ]
        }
      ]
    },
    {
      "cell_type": "code",
      "source": [
        "num1=float(num1)\n",
        "num2=float(num2)\n",
        "num3=float(num3)"
      ],
      "metadata": {
        "id": "rgRSf5lzl6M6"
      },
      "execution_count": 17,
      "outputs": []
    },
    {
      "cell_type": "code",
      "source": [
        "print(type(num1))"
      ],
      "metadata": {
        "colab": {
          "base_uri": "https://localhost:8080/"
        },
        "id": "IDZEVaktmYPV",
        "outputId": "3ef70557-8b84-442e-be5e-42a2c477883f"
      },
      "execution_count": 18,
      "outputs": [
        {
          "output_type": "stream",
          "name": "stdout",
          "text": [
            "<class 'float'>\n"
          ]
        }
      ]
    },
    {
      "cell_type": "code",
      "source": [
        "print(num1 + num2)\n",
        "print(num3 - num1)\n",
        "print(num1 * num2 + num3)\n",
        "print(num1 * (num2 + num3))\n",
        "print(num3 / num1)\n",
        "print(num3 // num1)\n",
        "print(num3 % num1)\n"
      ],
      "metadata": {
        "colab": {
          "base_uri": "https://localhost:8080/"
        },
        "id": "-eJA2MNcmdXw",
        "outputId": "a925e812-f402-42b9-c4d7-ef8d59de523e"
      },
      "execution_count": 19,
      "outputs": [
        {
          "output_type": "stream",
          "name": "stdout",
          "text": [
            "7.0\n",
            "2.0\n",
            "17.0\n",
            "27.0\n",
            "1.6666666666666667\n",
            "1.0\n",
            "2.0\n"
          ]
        }
      ]
    },
    {
      "cell_type": "code",
      "source": [
        "x, y, z, g = 1, 2, 3, 4"
      ],
      "metadata": {
        "id": "UjxnDveKm1Jg"
      },
      "execution_count": 20,
      "outputs": []
    },
    {
      "cell_type": "code",
      "source": [
        "x+y*z/g"
      ],
      "metadata": {
        "colab": {
          "base_uri": "https://localhost:8080/"
        },
        "id": "13Qr5zdTmfO1",
        "outputId": "3a846dff-d491-4e4f-93e3-92528692c9b0"
      },
      "execution_count": 21,
      "outputs": [
        {
          "output_type": "execute_result",
          "data": {
            "text/plain": [
              "2.5"
            ]
          },
          "metadata": {},
          "execution_count": 21
        }
      ]
    },
    {
      "cell_type": "code",
      "source": [
        "y**z"
      ],
      "metadata": {
        "colab": {
          "base_uri": "https://localhost:8080/"
        },
        "id": "lPX93dBpnkjY",
        "outputId": "397be6a7-04e0-45b9-dc0e-9989b28a7746"
      },
      "execution_count": 22,
      "outputs": [
        {
          "output_type": "execute_result",
          "data": {
            "text/plain": [
              "8"
            ]
          },
          "metadata": {},
          "execution_count": 22
        }
      ]
    },
    {
      "cell_type": "code",
      "source": [
        "str_a, str_b, str_c, num = 'python','is a','times fum language',1000"
      ],
      "metadata": {
        "id": "oE4T2q-enni4"
      },
      "execution_count": 23,
      "outputs": []
    },
    {
      "cell_type": "code",
      "source": [
        "str_ab= str_a + str_b + str(num) + str_c\n",
        "print(str_ab)"
      ],
      "metadata": {
        "colab": {
          "base_uri": "https://localhost:8080/"
        },
        "id": "5rhU2DWgn_0r",
        "outputId": "e5059b9e-f609-47a0-d445-ee04ea0e0fed"
      },
      "execution_count": 28,
      "outputs": [
        {
          "output_type": "stream",
          "name": "stdout",
          "text": [
            "pythonis a1000times fum language\n"
          ]
        }
      ]
    },
    {
      "cell_type": "markdown",
      "source": [
        "## Questions on control flow"
      ],
      "metadata": {
        "id": "c2j_fsXRpI_1"
      }
    },
    {
      "cell_type": "markdown",
      "source": [
        "### odd or even"
      ],
      "metadata": {
        "id": "EDHk4SMGp7Ae"
      }
    },
    {
      "cell_type": "code",
      "source": [
        "ask_num = int(input(\"Enter a number\"))\n",
        "if ask_num % 2==0:\n",
        "  print(\"even\")\n",
        "else:\n",
        "  print(\"odd\")"
      ],
      "metadata": {
        "colab": {
          "base_uri": "https://localhost:8080/"
        },
        "id": "R2ID7_9VpF4c",
        "outputId": "190c74c6-d6c5-48e4-fe52-c5102ddbe5b7"
      },
      "execution_count": 35,
      "outputs": [
        {
          "output_type": "stream",
          "name": "stdout",
          "text": [
            "Enter a number-2\n",
            "even\n"
          ]
        }
      ]
    },
    {
      "cell_type": "markdown",
      "source": [
        "### pass or fail"
      ],
      "metadata": {
        "id": "9JmnqAt2qlml"
      }
    },
    {
      "cell_type": "code",
      "source": [
        "std_score=int(input(\"Enter student's score:\"))\n",
        "if std_score >= 50:\n",
        "  print(\"Pass\")\n",
        "else :\n",
        "  print(\"Fail\")"
      ],
      "metadata": {
        "colab": {
          "base_uri": "https://localhost:8080/"
        },
        "id": "hUpNY3Nrp19J",
        "outputId": "1e39d059-50fb-4842-82aa-be00fa8b8baa"
      },
      "execution_count": 37,
      "outputs": [
        {
          "output_type": "stream",
          "name": "stdout",
          "text": [
            "Enter student's score:50\n",
            "Pass\n"
          ]
        }
      ]
    },
    {
      "cell_type": "markdown",
      "source": [
        "### Largest of 3 numbers"
      ],
      "metadata": {
        "id": "d6cBMXk7rB7_"
      }
    },
    {
      "cell_type": "code",
      "source": [
        "n1=int(input(\"Enter n1:\"))\n",
        "n2=int(input(\"Enter n2:\"))\n",
        "n3=int(input(\"Enter n3:\"))\n",
        "if n1 >= n2 and n1 >= n3:\n",
        "    print(n1)\n",
        "elif n2 >= n1 and n2 >= n3:\n",
        "    print(n2)\n",
        "else:\n",
        "    print(n3)\n",
        "\n"
      ],
      "metadata": {
        "colab": {
          "base_uri": "https://localhost:8080/"
        },
        "id": "k7uRo-JWqf5_",
        "outputId": "c2c33d54-7ead-4833-f252-8f7430820448"
      },
      "execution_count": 45,
      "outputs": [
        {
          "output_type": "stream",
          "name": "stdout",
          "text": [
            "Enter n1:2\n",
            "Enter n2:2\n",
            "Enter n3:1\n",
            "2\n"
          ]
        }
      ]
    },
    {
      "cell_type": "markdown",
      "source": [
        "### Counting with for"
      ],
      "metadata": {
        "id": "VqezeXzJsS2N"
      }
    },
    {
      "cell_type": "code",
      "source": [
        "for i in range(1,11):\n",
        "  print(i)"
      ],
      "metadata": {
        "colab": {
          "base_uri": "https://localhost:8080/"
        },
        "id": "yr_0-N3JsUYd",
        "outputId": "a3d5af56-b6f2-410d-88ac-9aef711988b6"
      },
      "execution_count": 44,
      "outputs": [
        {
          "output_type": "stream",
          "name": "stdout",
          "text": [
            "1\n",
            "2\n",
            "3\n",
            "4\n",
            "5\n",
            "6\n",
            "7\n",
            "8\n",
            "9\n",
            "10\n"
          ]
        }
      ]
    },
    {
      "cell_type": "markdown",
      "source": [
        "### grade calculator\n"
      ],
      "metadata": {
        "id": "JNyFeyX-uTSm"
      }
    },
    {
      "cell_type": "code",
      "source": [
        "score=int(input(\"Enter a score:\"))\n",
        "if score < 60:\n",
        "  print(\"F\")\n",
        "elif 60 <= score <= 69:\n",
        "  print(\"D\")\n",
        "elif 70 <= score <= 79:\n",
        "  print(\"C\")\n",
        "elif 80 <= score <= 89:\n",
        "  print(\"B\")\n",
        "elif 90 <= score <= 100:\n",
        "  print(\"A\")"
      ],
      "metadata": {
        "colab": {
          "base_uri": "https://localhost:8080/"
        },
        "id": "6xh4dnZfuW_V",
        "outputId": "ba58e66a-036f-4996-c5dd-5b160635fe2b"
      },
      "execution_count": 49,
      "outputs": [
        {
          "output_type": "stream",
          "name": "stdout",
          "text": [
            "Enter a score:100\n",
            "A\n"
          ]
        }
      ]
    },
    {
      "cell_type": "markdown",
      "source": [
        "### Multiplication Table\n"
      ],
      "metadata": {
        "id": "YCiBWcievXq1"
      }
    },
    {
      "cell_type": "code",
      "source": [
        "n =int(input(\"Enter a number:\"))\n",
        "for i in range (1,11):\n",
        "  print(i*n)"
      ],
      "metadata": {
        "colab": {
          "base_uri": "https://localhost:8080/"
        },
        "id": "_GG-AhhcvUJP",
        "outputId": "48b29e7b-34ee-40e7-9a43-4d82abe08503"
      },
      "execution_count": 57,
      "outputs": [
        {
          "output_type": "stream",
          "name": "stdout",
          "text": [
            "Enter a number:5\n",
            "5\n",
            "10\n",
            "15\n",
            "20\n",
            "25\n",
            "30\n",
            "35\n",
            "40\n",
            "45\n",
            "50\n"
          ]
        }
      ]
    },
    {
      "cell_type": "markdown",
      "source": [
        "### Sum of Even Numbers"
      ],
      "metadata": {
        "id": "_yJcdcjEvvLt"
      }
    },
    {
      "cell_type": "code",
      "source": [
        "i=1\n",
        "sum = 0\n",
        "while (i <=50):\n",
        "  if i % 2 == 0:\n",
        "    sum+=i\n",
        "  i+=1\n",
        "print(sum)"
      ],
      "metadata": {
        "colab": {
          "base_uri": "https://localhost:8080/"
        },
        "id": "MU5XRN252yn3",
        "outputId": "72da6bd5-66e1-4fab-989d-9f8e6316be52"
      },
      "execution_count": 55,
      "outputs": [
        {
          "output_type": "stream",
          "name": "stdout",
          "text": [
            "650\n"
          ]
        }
      ]
    },
    {
      "cell_type": "markdown",
      "source": [
        "### Factorial with while"
      ],
      "metadata": {
        "id": "xyv2z8_jxMCC"
      }
    },
    {
      "cell_type": "code",
      "source": [
        "num = int(input(\"Enter a non-negative integer: \"))\n",
        "\n",
        "factorial = 1\n",
        "i = 1\n",
        "\n",
        "if num < 0:\n",
        "    print(\"Factorial is not defined for negative numbers.\")\n",
        "else:\n",
        "    while i <= num:\n",
        "        factorial *= i\n",
        "        i += 1\n",
        "    print(f\"The factorial of {num} is {factorial}\")\n"
      ],
      "metadata": {
        "colab": {
          "base_uri": "https://localhost:8080/"
        },
        "id": "Yei82ky2wjmo",
        "outputId": "50f5561b-8827-464b-8715-00201503b523"
      },
      "execution_count": 56,
      "outputs": [
        {
          "output_type": "stream",
          "name": "stdout",
          "text": [
            "Enter a non-negative integer: 5\n",
            "The factorial of 5 is 120\n"
          ]
        }
      ]
    },
    {
      "cell_type": "code",
      "source": [],
      "metadata": {
        "id": "d6-j6_rXv-b6"
      },
      "execution_count": null,
      "outputs": []
    }
  ]
}